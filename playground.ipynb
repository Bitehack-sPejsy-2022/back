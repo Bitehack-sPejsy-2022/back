{
 "cells": [
  {
   "cell_type": "code",
   "execution_count": 12,
   "metadata": {},
   "outputs": [],
   "source": [
    "import requests\n",
    "import OSMPythonTools as osm"
   ]
  },
  {
   "cell_type": "code",
   "execution_count": 52,
   "metadata": {},
   "outputs": [
    {
     "data": {
      "text/plain": [
       "<OSMPythonTools.api.ApiResult at 0x7fe7eb5c3d60>"
      ]
     },
     "execution_count": 52,
     "metadata": {},
     "output_type": "execute_result"
    }
   ],
   "source": [
    "from OSMPythonTools.api import Api\n",
    "api = Api()\n",
    "way = api.query('way/5887599')\n",
    "way"
   ]
  },
  {
   "cell_type": "code",
   "execution_count": 22,
   "metadata": {},
   "outputs": [
    {
     "name": "stdout",
     "output_type": "stream",
     "text": [
      "castle\n",
      "Johann Lucas von Hildebrandt\n",
      "https://www.belvedere.at/\n"
     ]
    }
   ],
   "source": [
    "from OSMPythonTools.api import Api\n",
    "api = Api()\n",
    "way = api.query('way/5887599')\n",
    "\n",
    "\n",
    "print(way.tag('building'))\n",
    "print(way.tag('architect'))\n",
    "print(way.tag('website'))"
   ]
  },
  {
   "cell_type": "code",
   "execution_count": 196,
   "metadata": {},
   "outputs": [
    {
     "name": "stderr",
     "output_type": "stream",
     "text": [
      "[overpass] downloading data: [timeout:25][out:json];nwr[\"addr:city\"=\"Kraków\"][\"tourism\"][\"name\"]; out;\n",
      "Exception: [overpass] runtime error: Query timed out in \"query\" at line 1 after 45 seconds.\n",
      "NoneType: None\n",
      "[overpass] error in result (overpass-b4f24aa7b32208b007852e16d8e3939b56dcf186): [timeout:25][out:json];nwr[\"addr:city\"=\"Kraków\"][\"tourism\"][\"name\"]; out;\n",
      "NoneType: None\n"
     ]
    },
    {
     "ename": "Exception",
     "evalue": "[overpass] error in result (overpass-b4f24aa7b32208b007852e16d8e3939b56dcf186): [timeout:25][out:json];nwr[\"addr:city\"=\"Kraków\"][\"tourism\"][\"name\"]; out;",
     "output_type": "error",
     "traceback": [
      "\u001b[0;31m---------------------------------------------------------------------------\u001b[0m",
      "\u001b[0;31mException\u001b[0m                                 Traceback (most recent call last)",
      "\u001b[0;32m/tmp/ipykernel_16429/4143864865.py\u001b[0m in \u001b[0;36m<module>\u001b[0;34m\u001b[0m\n\u001b[1;32m      2\u001b[0m \u001b[0;34m\u001b[0m\u001b[0m\n\u001b[1;32m      3\u001b[0m \u001b[0moverpass\u001b[0m \u001b[0;34m=\u001b[0m \u001b[0mOverpass\u001b[0m\u001b[0;34m(\u001b[0m\u001b[0;34m)\u001b[0m\u001b[0;34m\u001b[0m\u001b[0;34m\u001b[0m\u001b[0m\n\u001b[0;32m----> 4\u001b[0;31m \u001b[0mresult\u001b[0m \u001b[0;34m=\u001b[0m \u001b[0moverpass\u001b[0m\u001b[0;34m.\u001b[0m\u001b[0mquery\u001b[0m\u001b[0;34m(\u001b[0m\u001b[0;34m'nwr[\"addr:city\"=\"Kraków\"][\"tourism\"][\"name\"]; out;'\u001b[0m\u001b[0;34m)\u001b[0m\u001b[0;34m\u001b[0m\u001b[0;34m\u001b[0m\u001b[0m\n\u001b[0m\u001b[1;32m      5\u001b[0m \u001b[0;34m\u001b[0m\u001b[0m\n\u001b[1;32m      6\u001b[0m \u001b[0ms\u001b[0m \u001b[0;34m=\u001b[0m \u001b[0mset\u001b[0m\u001b[0;34m(\u001b[0m\u001b[0;34m{\u001b[0m\u001b[0;34m}\u001b[0m\u001b[0;34m)\u001b[0m\u001b[0;34m\u001b[0m\u001b[0;34m\u001b[0m\u001b[0m\n",
      "\u001b[0;32m~/.local/lib/python3.8/site-packages/OSMPythonTools/internal/cacheObject.py\u001b[0m in \u001b[0;36mquery\u001b[0;34m(self, onlyCached, shallow, *args, **kwargs)\u001b[0m\n\u001b[1;32m     52\u001b[0m             \u001b[0mmsg\u001b[0m \u001b[0;34m=\u001b[0m \u001b[0;34m'['\u001b[0m \u001b[0;34m+\u001b[0m \u001b[0mself\u001b[0m\u001b[0;34m.\u001b[0m\u001b[0m_prefix\u001b[0m \u001b[0;34m+\u001b[0m \u001b[0;34m'] error in result ('\u001b[0m \u001b[0;34m+\u001b[0m \u001b[0mkey\u001b[0m \u001b[0;34m+\u001b[0m \u001b[0;34m'): '\u001b[0m \u001b[0;34m+\u001b[0m \u001b[0mqueryString\u001b[0m\u001b[0;34m\u001b[0m\u001b[0;34m\u001b[0m\u001b[0m\n\u001b[1;32m     53\u001b[0m             \u001b[0mOSMPythonTools\u001b[0m\u001b[0;34m.\u001b[0m\u001b[0mlogger\u001b[0m\u001b[0;34m.\u001b[0m\u001b[0mexception\u001b[0m\u001b[0;34m(\u001b[0m\u001b[0mmsg\u001b[0m\u001b[0;34m)\u001b[0m\u001b[0;34m\u001b[0m\u001b[0;34m\u001b[0m\u001b[0m\n\u001b[0;32m---> 54\u001b[0;31m             \u001b[0;32mraise\u001b[0m\u001b[0;34m(\u001b[0m\u001b[0mException\u001b[0m\u001b[0;34m(\u001b[0m\u001b[0mmsg\u001b[0m\u001b[0;34m)\u001b[0m\u001b[0;34m)\u001b[0m\u001b[0;34m\u001b[0m\u001b[0;34m\u001b[0m\u001b[0m\n\u001b[0m\u001b[1;32m     55\u001b[0m         \u001b[0;32mif\u001b[0m \u001b[0mmakeDownload\u001b[0m\u001b[0;34m:\u001b[0m\u001b[0;34m\u001b[0m\u001b[0;34m\u001b[0m\u001b[0m\n\u001b[1;32m     56\u001b[0m             \u001b[0mCachingStrategy\u001b[0m\u001b[0;34m.\u001b[0m\u001b[0mset\u001b[0m\u001b[0;34m(\u001b[0m\u001b[0mkey\u001b[0m\u001b[0;34m,\u001b[0m \u001b[0mdata\u001b[0m\u001b[0;34m)\u001b[0m\u001b[0;34m\u001b[0m\u001b[0;34m\u001b[0m\u001b[0m\n",
      "\u001b[0;31mException\u001b[0m: [overpass] error in result (overpass-b4f24aa7b32208b007852e16d8e3939b56dcf186): [timeout:25][out:json];nwr[\"addr:city\"=\"Kraków\"][\"tourism\"][\"name\"]; out;"
     ]
    }
   ],
   "source": [
    "from OSMPythonTools.overpass import Overpass\n",
    "\n",
    "overpass = Overpass()\n",
    "result = overpass.query('nwr[\"addr:city\"=\"Kraków\"][\"tourism\"]; out;')\n",
    "\n",
    "s = set({})\n",
    "for dupa in result.elements():\n",
    "  # node: dupa.lat(), dupa.lon()\n",
    "  print(dupa)"
   ]
  },
  {
   "cell_type": "code",
   "execution_count": 67,
   "metadata": {},
   "outputs": [
    {
     "data": {
      "text/plain": [
       "0"
      ]
     },
     "execution_count": 67,
     "metadata": {},
     "output_type": "execute_result"
    }
   ],
   "source": [
    "from OSMPythonTools.overpass import Overpass, overpassQueryBuilder\n",
    "\n",
    "overpass = Overpass()\n",
    "result = overpassQueryBuilder()"
   ]
  },
  {
   "cell_type": "code",
   "execution_count": 134,
   "metadata": {},
   "outputs": [
    {
     "data": {
      "text/plain": [
       "10"
      ]
     },
     "execution_count": 134,
     "metadata": {},
     "output_type": "execute_result"
    }
   ],
   "source": [
    "from OSMPythonTools.nominatim import Nominatim\n",
    "import json\n",
    "\n",
    "nominatim = Nominatim()\n",
    "a = nominatim.query('kraków muzeum')\n",
    "len(a.toJSON())"
   ]
  },
  {
   "cell_type": "markdown",
   "metadata": {},
   "source": [
    "## Fajne funkcje"
   ]
  },
  {
   "cell_type": "code",
   "execution_count": 225,
   "metadata": {},
   "outputs": [
    {
     "data": {
      "text/plain": [
       "{('Kościół Akademicki pod wezwaniem Wniebowzięcia NMP',\n",
       "  '',\n",
       "  '44-200 Rybnik, Gliwicka 8',\n",
       "  'attraction',\n",
       "  50.0995985,\n",
       "  18.5448994),\n",
       " ('Kościół pod wezwaniem Matki Boskiej Bolesnej',\n",
       "  '',\n",
       "  '44-200 Rybnik, Franciszka Rybnickiego 2',\n",
       "  'attraction',\n",
       "  50.0976382,\n",
       "  18.5420262),\n",
       " ('Kościół pw. Świętego Antoniego',\n",
       "  '',\n",
       "  '44-200 Rybnik, Mikołowska 4',\n",
       "  'attraction',\n",
       "  50.098054,\n",
       "  18.5494088),\n",
       " ('Kościół pw. św. Wawrzyńca',\n",
       "  '',\n",
       "  '44-203 Rybnik, Wolna 125',\n",
       "  'attraction',\n",
       "  50.089807,\n",
       "  18.5978411),\n",
       " ('Kościół św. Katarzyny i Matki Bożej Różańcowej',\n",
       "  '',\n",
       "  '44-207 Rybnik, Górna 17B',\n",
       "  'attraction',\n",
       "  50.1201563,\n",
       "  18.553589),\n",
       " ('Muzeum Miejskie w Rybniku',\n",
       "  '',\n",
       "  '44-200 Rybnik, Rynek 18',\n",
       "  'museum',\n",
       "  50.0959137,\n",
       "  18.5415527)}"
      ]
     },
     "execution_count": 225,
     "metadata": {},
     "output_type": "execute_result"
    }
   ],
   "source": [
    "def gen_description(obj):\n",
    "  return \"\"\n",
    "\n",
    "def gen_address(obj):\n",
    "  r = [ obj.tag(\"addr:postcode\"), \" \", obj.tag(\"addr:city\"), \", \", obj.tag(\"addr:street\"), \" \", obj.tag(\"addr:housenumber\") ]\n",
    "  for i in r:\n",
    "    if i is None:\n",
    "      return None\n",
    "  return \"\".join(r)\n",
    "  \n",
    "def get_lat_lon(obj):\n",
    "  if not obj.lat() is None and not obj.lon() is None:\n",
    "    return obj.lat(), obj.lon()\n",
    "  elif len(obj.nodes()) == 0:\n",
    "    return  None, None\n",
    "  elif not obj.nodes()[0].lat() is None and not obj.nodes()[0].lon() is None:\n",
    "    return obj.nodes()[0].lat(), obj.nodes()[0].lon()\n",
    "  else:\n",
    "    return None, None\n",
    "\n",
    "def search_for_cool_objects(city):\n",
    "  # cools found in Krakow: hotel hostel information motel gallery camp_site theme_park apartment zoo attraction guest_house museum\n",
    "  COOLS = {\"information\", \"gallery\", \"camp_site\", \"theme_park\", \"zoo\", \"attraction\", \"museum\"}\n",
    "  \n",
    "  overpass = Overpass()\n",
    "  result = overpass.query(f'nwr[\"addr:city\"=\"{city}\"][\"tourism\"]; out;')\n",
    "\n",
    "  s = set({})\n",
    "  for obj in result.elements():\n",
    "    if not obj.tag(\"tourism\") in COOLS:\n",
    "      continue\n",
    "\n",
    "    name = obj.tag(\"name\")\n",
    "    description = gen_description(obj)\n",
    "    address = gen_address(obj)\n",
    "    category = obj.tag(\"tourism\")\n",
    "    latitide, longitude = get_lat_lon(obj)\n",
    "    picture_url = \"\"\n",
    "\n",
    "    if None in (name, address, category, latitide, longitude):\n",
    "      continue\n",
    "    s.add((name, description, address, category, latitide, longitude))\n",
    "  return s\n",
    "\n",
    "search_for_cool_objects(\"Rybnik\")"
   ]
  },
  {
   "cell_type": "code",
   "execution_count": null,
   "metadata": {},
   "outputs": [],
   "source": []
  }
 ],
 "metadata": {
  "interpreter": {
   "hash": "f9f85f796d01129d0dd105a088854619f454435301f6ffec2fea96ecbd9be4ac"
  },
  "kernelspec": {
   "display_name": "Python 3.9.5 64-bit",
   "language": "python",
   "name": "python3"
  },
  "language_info": {
   "codemirror_mode": {
    "name": "ipython",
    "version": 3
   },
   "file_extension": ".py",
   "mimetype": "text/x-python",
   "name": "python",
   "nbconvert_exporter": "python",
   "pygments_lexer": "ipython3",
   "version": "3.8.10"
  },
  "orig_nbformat": 4
 },
 "nbformat": 4,
 "nbformat_minor": 2
}
